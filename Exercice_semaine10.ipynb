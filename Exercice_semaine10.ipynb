{
 "cells": [
  {
   "cell_type": "markdown",
   "metadata": {},
   "source": [
    "Exercice base sur un kernel de https://www.kaggle.com/shivamb "
   ]
  },
  {
   "cell_type": "markdown",
   "metadata": {},
   "source": [
    "\n",
    "\n",
    "The data files train.csv and test.csv contain gray-scale images of hand-drawn digits, from zero through nine.\n",
    "\n",
    "Each image is 28 pixels in height and 28 pixels in width, for a total of 784 pixels in total. Each pixel has a single pixel-value associated with it, indicating the lightness or darkness of that pixel, with higher numbers meaning darker. This pixel-value is an integer between 0 and 255, inclusive.\n",
    "\n",
    "The training data set, (train.csv), has 785 columns. The first column, called \"label\", is the digit that was drawn by the user. The rest of the columns contain the pixel-values of the associated image.\n",
    "\n",
    "Each pixel column in the training set has a name like pixelx, where x is an integer between 0 and 783, inclusive. To locate this pixel on the image, suppose that we have decomposed x as x = i * 28 + j, where i and j are integers between 0 and 27, inclusive. Then pixelx is located on row i and column j of a 28 x 28 matrix, (indexing by zero).\n",
    "\n",
    "For example, pixel31 indicates the pixel that is in the fourth column from the left, and the second row from the top, as in the ascii-diagram below.\n",
    "\n",
    "Visually, if we omit the \"pixel\" prefix, the pixels make up the image like this:\n",
    "\n",
    "000 001 002 003 ... 026 027\n",
    "028 029 030 031 ... 054 055\n",
    "056 057 058 059 ... 082 083\n",
    " |   |   |   |  ...  |   |\n",
    "728 729 730 731 ... 754 755\n",
    "756 757 758 759 ... 782 783 \n",
    "The test data set, (test.csv), is the same as the training set, except that it does not contain the \"label\" column.\n",
    "\n",
    "Your submission file should be in the following format: For each of the 28000 images in the test set, output a single line containing the ImageId and the digit you predict. For example, if you predict that the first image is of a 3, the second image is of a 7, and the third image is of a 8, then your submission file would look like:\n",
    "\n",
    "ImageId,Label\n",
    "1,3\n",
    "2,7\n",
    "3,8 \n",
    "(27997 more lines)\n",
    "The evaluation metric for this contest is the categorization accuracy, or the proportion of test images that are correctly classified. For example, a categorization accuracy of 0.97 indicates that you have correctly classified all but 3% of the images."
   ]
  },
  {
   "cell_type": "markdown",
   "metadata": {
    "_cell_guid": "b1076dfc-b9ad-4769-8c92-a6c4dae69d19",
    "_uuid": "8f2839f25d086af736a60e9eeb907d3b93b6e0e5"
   },
   "source": [
    "## <a> 2. Implement a Neural Network - Binary Classification</a>  \n",
    "\n",
    "Lets implement a basic neural network in python for binary classification which is used to classify if a given image is 0 or 1.  "
   ]
  },
  {
   "cell_type": "code",
   "execution_count": 3,
   "metadata": {
    "_cell_guid": "abf6aa77-17cd-4b4a-bacf-903838fe813e",
    "_uuid": "735f9f4ab4893a28cc6a28f81a49a182fd02747d"
   },
   "outputs": [],
   "source": [
    "import pandas as pd \n",
    "import numpy as np \n",
    "import matplotlib.pyplot as plt"
   ]
  },
  {
   "cell_type": "markdown",
   "metadata": {
    "_cell_guid": "e249a1aa-a3df-4342-97ea-48a380d642a0",
    "_uuid": "3fa615d978d15f0430a3adf0bbe2b7ccc8205f5f"
   },
   "source": [
    "### 2.1 Dataset Preparation\n",
    "\n",
    "First step is to load and prepare the dataset"
   ]
  },
  {
   "cell_type": "code",
   "execution_count": 20,
   "metadata": {},
   "outputs": [],
   "source": [
    "labeled_images = pd.read_csv('src/train.csv')\n",
    "images = labeled_images.iloc[0:5000,1:]\n",
    "labels = labeled_images.iloc[0:5000,:1]"
   ]
  },
  {
   "cell_type": "code",
   "execution_count": 21,
   "metadata": {},
   "outputs": [
    {
     "name": "stderr",
     "output_type": "stream",
     "text": [
      "/Users/rfibigr/goinfre/miniconda3/lib/python3.7/site-packages/ipykernel_launcher.py:2: FutureWarning: Method .as_matrix will be removed in a future version. Use .values instead.\n",
      "  \n"
     ]
    },
    {
     "data": {
      "image/png": "[encoded data removed]",
      "text/plain": [
       "<Figure size 432x288 with 1 Axes>"
      ]
     },
     "metadata": {
      "needs_background": "light"
     },
     "output_type": "display_data"
    }
   ],
   "source": [
    "for i in range (1):\n",
    "    img=images.iloc[i].as_matrix()\n",
    "    img=img.reshape((28,28))\n",
    "    plt.imshow(img,cmap='gray')\n",
    "    plt.title(images.iloc[i,0])\n",
    "    plt.show()"
   ]
  },
  {
   "cell_type": "code",
   "execution_count": 23,
   "metadata": {
    "_cell_guid": "34aa89c5-b5b7-4b34-9f16-0af4a4046cdf",
    "_uuid": "670c2f126fa04d98426502d720a6288e5b0cb5df"
   },
   "outputs": [
    {
     "data": {
      "text/plain": [
       "<bound method NDFrame.head of        pixel0  pixel1  pixel2  pixel3  pixel4  pixel5  pixel6  pixel7  pixel8  \\\n",
       "0           0       0       0       0       0       0       0       0       0   \n",
       "1           0       0       0       0       0       0       0       0       0   \n",
       "2           0       0       0       0       0       0       0       0       0   \n",
       "4           0       0       0       0       0       0       0       0       0   \n",
       "5           0       0       0       0       0       0       0       0       0   \n",
       "12          0       0       0       0       0       0       0       0       0   \n",
       "15          0       0       0       0       0       0       0       0       0   \n",
       "17          0       0       0       0       0       0       0       0       0   \n",
       "23          0       0       0       0       0       0       0       0       0   \n",
       "35          0       0       0       0       0       0       0       0       0   \n",
       "37          0       0       0       0       0       0       0       0       0   \n",
       "38          0       0       0       0       0       0       0       0       0   \n",
       "41          0       0       0       0       0       0       0       0       0   \n",
       "52          0       0       0       0       0       0       0       0       0   \n",
       "54          0       0       0       0       0       0       0       0       0   \n",
       "59          0       0       0       0       0       0       0       0       0   \n",
       "60          0       0       0       0       0       0       0       0       0   \n",
       "61          0       0       0       0       0       0       0       0       0   \n",
       "63          0       0       0       0       0       0       0       0       0   \n",
       "68          0       0       0       0       0       0       0       0       0   \n",
       "69          0       0       0       0       0       0       0       0       0   \n",
       "77          0       0       0       0       0       0       0       0       0   \n",
       "79          0       0       0       0       0       0       0       0       0   \n",
       "96          0       0       0       0       0       0       0       0       0   \n",
       "98          0       0       0       0       0       0       0       0       0   \n",
       "108         0       0       0       0       0       0       0       0       0   \n",
       "110         0       0       0       0       0       0       0       0       0   \n",
       "111         0       0       0       0       0       0       0       0       0   \n",
       "114         0       0       0       0       0       0       0       0       0   \n",
       "118         0       0       0       0       0       0       0       0       0   \n",
       "...       ...     ...     ...     ...     ...     ...     ...     ...     ...   \n",
       "41866       0       0       0       0       0       0       0       0       0   \n",
       "41876       0       0       0       0       0       0       0       0       0   \n",
       "41878       0       0       0       0       0       0       0       0       0   \n",
       "41880       0       0       0       0       0       0       0       0       0   \n",
       "41882       0       0       0       0       0       0       0       0       0   \n",
       "41886       0       0       0       0       0       0       0       0       0   \n",
       "41889       0       0       0       0       0       0       0       0       0   \n",
       "41896       0       0       0       0       0       0       0       0       0   \n",
       "41898       0       0       0       0       0       0       0       0       0   \n",
       "41899       0       0       0       0       0       0       0       0       0   \n",
       "41904       0       0       0       0       0       0       0       0       0   \n",
       "41911       0       0       0       0       0       0       0       0       0   \n",
       "41923       0       0       0       0       0       0       0       0       0   \n",
       "41926       0       0       0       0       0       0       0       0       0   \n",
       "41930       0       0       0       0       0       0       0       0       0   \n",
       "41932       0       0       0       0       0       0       0       0       0   \n",
       "41933       0       0       0       0       0       0       0       0       0   \n",
       "41936       0       0       0       0       0       0       0       0       0   \n",
       "41938       0       0       0       0       0       0       0       0       0   \n",
       "41939       0       0       0       0       0       0       0       0       0   \n",
       "41951       0       0       0       0       0       0       0       0       0   \n",
       "41952       0       0       0       0       0       0       0       0       0   \n",
       "41954       0       0       0       0       0       0       0       0       0   \n",
       "41960       0       0       0       0       0       0       0       0       0   \n",
       "41968       0       0       0       0       0       0       0       0       0   \n",
       "41986       0       0       0       0       0       0       0       0       0   \n",
       "41988       0       0       0       0       0       0       0       0       0   \n",
       "41991       0       0       0       0       0       0       0       0       0   \n",
       "41995       0       0       0       0       0       0       0       0       0   \n",
       "41996       0       0       0       0       0       0       0       0       0   \n",
       "\n",
       "       pixel9  ...  pixel774  pixel775  pixel776  pixel777  pixel778  \\\n",
       "0           0  ...         0         0         0         0         0   \n",
       "1           0  ...         0         0         0         0         0   \n",
       "2           0  ...         0         0         0         0         0   \n",
       "4           0  ...         0         0         0         0         0   \n",
       "5           0  ...         0         0         0         0         0   \n",
       "12          0  ...         0         0         0         0         0   \n",
       "15          0  ...         0         0         0         0         0   \n",
       "17          0  ...         0         0         0         0         0   \n",
       "23          0  ...         0         0         0         0         0   \n",
       "35          0  ...         0         0         0         0         0   \n",
       "37          0  ...         0         0         0         0         0   \n",
       "38          0  ...         0         0         0         0         0   \n",
       "41          0  ...         0         0         0         0         0   \n",
       "52          0  ...         0         0         0         0         0   \n",
       "54          0  ...         0         0         0         0         0   \n",
       "59          0  ...         0         0         0         0         0   \n",
       "60          0  ...         0         0         0         0         0   \n",
       "61          0  ...         0         0         0         0         0   \n",
       "63          0  ...         0         0         0         0         0   \n",
       "68          0  ...         0         0         0         0         0   \n",
       "69          0  ...         0         0         0         0         0   \n",
       "77          0  ...         0         0         0         0         0   \n",
       "79          0  ...         0         0         0         0         0   \n",
       "96          0  ...         0         0         0         0         0   \n",
       "98          0  ...         0         0         0         0         0   \n",
       "108         0  ...         0         0         0         0         0   \n",
       "110         0  ...         0         0         0         0         0   \n",
       "111         0  ...         0         0         0         0         0   \n",
       "114         0  ...         0         0         0         0         0   \n",
       "118         0  ...         0         0         0         0         0   \n",
       "...       ...  ...       ...       ...       ...       ...       ...   \n",
       "41866       0  ...         0         0         0         0         0   \n",
       "41876       0  ...         0         0         0         0         0   \n",
       "41878       0  ...         0         0         0         0         0   \n",
       "41880       0  ...         0         0         0         0         0   \n",
       "41882       0  ...         0         0         0         0         0   \n",
       "41886       0  ...         0         0         0         0         0   \n",
       "41889       0  ...         0         0         0         0         0   \n",
       "41896       0  ...         0         0         0         0         0   \n",
       "41898       0  ...         0         0         0         0         0   \n",
       "41899       0  ...         0         0         0         0         0   \n",
       "41904       0  ...         0         0         0         0         0   \n",
       "41911       0  ...         0         0         0         0         0   \n",
       "41923       0  ...         0         0         0         0         0   \n",
       "41926       0  ...         0         0         0         0         0   \n",
       "41930       0  ...         0         0         0         0         0   \n",
       "41932       0  ...         0         0         0         0         0   \n",
       "41933       0  ...         0         0         0         0         0   \n",
       "41936       0  ...         0         0         0         0         0   \n",
       "41938       0  ...         0         0         0         0         0   \n",
       "41939       0  ...         0         0         0         0         0   \n",
       "41951       0  ...         0         0         0         0         0   \n",
       "41952       0  ...         0         0         0         0         0   \n",
       "41954       0  ...         0         0         0         0         0   \n",
       "41960       0  ...         0         0         0         0         0   \n",
       "41968       0  ...         0         0         0         0         0   \n",
       "41986       0  ...         0         0         0         0         0   \n",
       "41988       0  ...         0         0         0         0         0   \n",
       "41991       0  ...         0         0         0         0         0   \n",
       "41995       0  ...         0         0         0         0         0   \n",
       "41996       0  ...         0         0         0         0         0   \n",
       "\n",
       "       pixel779  pixel780  pixel781  pixel782  pixel783  \n",
       "0             0         0         0         0         0  \n",
       "1             0         0         0         0         0  \n",
       "2             0         0         0         0         0  \n",
       "4             0         0         0         0         0  \n",
       "5             0         0         0         0         0  \n",
       "12            0         0         0         0         0  \n",
       "15            0         0         0         0         0  \n",
       "17            0         0         0         0         0  \n",
       "23            0         0         0         0         0  \n",
       "35            0         0         0         0         0  \n",
       "37            0         0         0         0         0  \n",
       "38            0         0         0         0         0  \n",
       "41            0         0         0         0         0  \n",
       "52            0         0         0         0         0  \n",
       "54            0         0         0         0         0  \n",
       "59            0         0         0         0         0  \n",
       "60            0         0         0         0         0  \n",
       "61            0         0         0         0         0  \n",
       "63            0         0         0         0         0  \n",
       "68            0         0         0         0         0  \n",
       "69            0         0         0         0         0  \n",
       "77            0         0         0         0         0  \n",
       "79            0         0         0         0         0  \n",
       "96            0         0         0         0         0  \n",
       "98            0         0         0         0         0  \n",
       "108           0         0         0         0         0  \n",
       "110           0         0         0         0         0  \n",
       "111           0         0         0         0         0  \n",
       "114           0         0         0         0         0  \n",
       "118           0         0         0         0         0  \n",
       "...         ...       ...       ...       ...       ...  \n",
       "41866         0         0         0         0         0  \n",
       "41876         0         0         0         0         0  \n",
       "41878         0         0         0         0         0  \n",
       "41880         0         0         0         0         0  \n",
       "41882         0         0         0         0         0  \n",
       "41886         0         0         0         0         0  \n",
       "41889         0         0         0         0         0  \n",
       "41896         0         0         0         0         0  \n",
       "41898         0         0         0         0         0  \n",
       "41899         0         0         0         0         0  \n",
       "41904         0         0         0         0         0  \n",
       "41911         0         0         0         0         0  \n",
       "41923         0         0         0         0         0  \n",
       "41926         0         0         0         0         0  \n",
       "41930         0         0         0         0         0  \n",
       "41932         0         0         0         0         0  \n",
       "41933         0         0         0         0         0  \n",
       "41936         0         0         0         0         0  \n",
       "41938         0         0         0         0         0  \n",
       "41939         0         0         0         0         0  \n",
       "41951         0         0         0         0         0  \n",
       "41952         0         0         0         0         0  \n",
       "41954         0         0         0         0         0  \n",
       "41960         0         0         0         0         0  \n",
       "41968         0         0         0         0         0  \n",
       "41986         0         0         0         0         0  \n",
       "41988         0         0         0         0         0  \n",
       "41991         0         0         0         0         0  \n",
       "41995         0         0         0         0         0  \n",
       "41996         0         0         0         0         0  \n",
       "\n",
       "[8816 rows x 784 columns]>"
      ]
     },
     "execution_count": 23,
     "metadata": {},
     "output_type": "execute_result"
    }
   ],
   "source": [
    "train = pd.read_csv(\"src/train.csv\")\n",
    "test = pd.read_csv(\"src/test.csv\")\n",
    "\n",
    "# include only the rows having label = 0 or 1 (binary classification)\n",
    "X = train[train['label'].isin([0, 1])]\n",
    "\n",
    "# target variable\n",
    "Y = train[train['label'].isin([0, 1])]['label']\n",
    "\n",
    "# remove the label from X\n",
    "X = X.drop(['label'], axis = 1)\n",
    "\n",
    "X.head"
   ]
  },
  {
   "cell_type": "markdown",
   "metadata": {
    "_cell_guid": "378fd937-d372-4eab-bcfd-46bf5817ed01",
    "_uuid": "37ea4b7a6bbedd53b00dec3cfefad523b44d68fb"
   },
   "source": [
    "### 2.2 Implementing a Activation Function \n",
    "\n",
    "We will use sigmoid activation function because it outputs the values between 0 and 1 so its a good choice for a binary classification problem"
   ]
  },
  {
   "cell_type": "code",
   "execution_count": null,
   "metadata": {},
   "outputs": [],
   "source": []
  },
  {
   "cell_type": "code",
   "execution_count": 3,
   "metadata": {
    "_cell_guid": "19fc3ff1-f6ac-447d-98ea-4ff4d4bf4669",
    "_uuid": "13f0338a967a4cb87503821f044c09552d2e1640"
   },
   "outputs": [],
   "source": [
    "# implementing a sigmoid activation function\n",
    "def sigmoid(z):\n",
    "    s = 1.0/ (1 + np.exp(-z))    \n",
    "    return s"
   ]
  },
  {
   "cell_type": "markdown",
   "metadata": {
    "_cell_guid": "ee1e1ebe-4298-40cd-9044-d8dc4327aa6c",
    "_uuid": "3c58c24a7feb9789a5bd84e8c9cc5068eebbee04"
   },
   "source": [
    "### 2.3 Define Neural Network Architecture\n",
    "\n",
    "Create a model with three layers - Input, Hidden, Output. "
   ]
  },
  {
   "cell_type": "code",
   "execution_count": 4,
   "metadata": {
    "_cell_guid": "a4c98dcc-6a34-4e5d-99d7-7e26ec12ce21",
    "_uuid": "deab1ad6439f304b669f70da3ca1f70e13f027f6"
   },
   "outputs": [],
   "source": [
    "def network_architecture(X, Y):\n",
    "    # nodes in input layer\n",
    "    n_x = X.shape[0] \n",
    "    # nodes in hidden layer\n",
    "    n_h = 10          \n",
    "    # nodes in output layer\n",
    "    n_y = Y.shape[0] \n",
    "    return (n_x, n_h, n_y)"
   ]
  },
  {
   "cell_type": "markdown",
   "metadata": {
    "_cell_guid": "dc75a514-66e5-4479-9613-7fdc4572271d",
    "_uuid": "c91f07b7c28808b74babea3d013fbfdd6ea3ba91"
   },
   "source": [
    "### 2.4 Define Neural Network Parameters \n",
    "\n",
    "Neural Network parameters are weights and bias which we need to initialze with zero values. The first layer only contains inputs so there are no weights and bias, but the hidden layer and the output layer have a weight and bias term. (W1, b1 and W2, b2)"
   ]
  },
  {
   "cell_type": "code",
   "execution_count": 5,
   "metadata": {
    "_cell_guid": "cef24778-cd2c-4412-b017-7f4d9b34f34a",
    "_uuid": "c13e2d5cd4d04c05c878f7ccab1677b290847be4"
   },
   "outputs": [],
   "source": [
    "def define_network_parameters(n_x, n_h, n_y):\n",
    "    W1 = np.random.randn(n_h,n_x) * 0.01 # random initialization\n",
    "    b1 = np.zeros((n_h, 1)) # zero initialization\n",
    "    W2 = np.random.randn(n_y,n_h) * 0.01 \n",
    "    b2 = np.zeros((n_y, 1)) \n",
    "\n",
    "    return {\"W1\": W1, \"b1\": b1, \"W2\": W2, \"b2\": b2}    "
   ]
  },
  {
   "cell_type": "markdown",
   "metadata": {
    "_cell_guid": "cd1fd5e9-aae9-4996-8137-6f577147b90c",
    "_uuid": "9664d29beedd6c5a7c27b10201992a3c2f810c56"
   },
   "source": [
    "### 2.5 Implement Forward Propagation\n",
    "\n",
    "The hidden layer and output layer will compute the activations using sigmoid activation function and will pass it in the forward direction. While computing this activation, the input is multiplied with weight and added with bias before passing it to the function. "
   ]
  },
  {
   "cell_type": "code",
   "execution_count": 6,
   "metadata": {
    "_cell_guid": "2fd5cfe1-dbe2-4580-b541-1ed5cf139166",
    "_uuid": "ee7d22c45eeb9768b2722c36ecf9f73ff9ef2db9"
   },
   "outputs": [],
   "source": [
    "def forward_propagation(X, params):\n",
    "    Z1 = np.dot(params['W1'], X)+params['b1']\n",
    "    A1 = sigmoid(Z1)\n",
    "\n",
    "    Z2 = np.dot(params['W2'], A1)+params['b2']\n",
    "    A2 = sigmoid(Z2)\n",
    "    return {\"Z1\": Z1, \"A1\": A1, \"Z2\": Z2, \"A2\": A2}    "
   ]
  },
  {
   "cell_type": "markdown",
   "metadata": {
    "_cell_guid": "da5fac38-7256-4fc3-bcfc-b2358b8bff31",
    "_uuid": "162413bf075111e6355ee9d5f16d0ca78a2f33a9"
   },
   "source": [
    "### 2.6 Compute the Network Error \n",
    "\n",
    "To compute the cost, one straight forward approach is to compute the absolute error among prediction and actual value. But a better loss function is the log loss function which is defines as : \n",
    "\n",
    "  -Summ ( Log (Pred) * Actual + Log (1 - Pred ) * Actual ) / m"
   ]
  },
  {
   "cell_type": "code",
   "execution_count": 7,
   "metadata": {
    "_cell_guid": "155f019d-3e33-4cdd-9722-4d0a7121276f",
    "_uuid": "08d7b796a3dbdcb1530053238037803ac76362c3"
   },
   "outputs": [],
   "source": [
    "def compute_error(Predicted, Actual):\n",
    "    logprobs = np.multiply(np.log(Predicted), Actual)+ np.multiply(np.log(1-Predicted), 1-Actual)\n",
    "    cost = -np.sum(logprobs) / Actual.shape[1] \n",
    "    return np.squeeze(cost)"
   ]
  },
  {
   "cell_type": "markdown",
   "metadata": {
    "_cell_guid": "1c4ef52b-55ac-4ef2-a5fd-ee164db8dcdc",
    "_uuid": "58d61c5257c8f568d439a605fc311f483f09f1e2"
   },
   "source": [
    "### 2.7 Implement Backward Propagation\n",
    "\n",
    "In backward propagation function, the error is passed backward to previous layers and the derivatives of weights and bias are computed. The weights and bias are then updated using the derivatives.  "
   ]
  },
  {
   "cell_type": "code",
   "execution_count": 8,
   "metadata": {
    "_cell_guid": "8796bbb2-8fbf-4740-9687-c3ec2c38a27f",
    "_uuid": "195d2b62d4655b7ecff22e4bc70be15256aadf1b"
   },
   "outputs": [],
   "source": [
    "def backward_propagation(params, activations, X, Y):\n",
    "    m = X.shape[1]\n",
    "    \n",
    "    # output layer\n",
    "    dZ2 = activations['A2'] - Y # compute the error derivative \n",
    "    dW2 = np.dot(dZ2, activations['A1'].T) / m # compute the weight derivative \n",
    "    db2 = np.sum(dZ2, axis=1, keepdims=True)/m # compute the bias derivative\n",
    "    \n",
    "    # hidden layer\n",
    "    dZ1 = np.dot(params['W2'].T, dZ2)*(1-np.power(activations['A1'], 2))\n",
    "    dW1 = np.dot(dZ1, X.T)/m\n",
    "    db1 = np.sum(dZ1, axis=1,keepdims=True)/m\n",
    "    \n",
    "    return {\"dW1\": dW1, \"db1\": db1, \"dW2\": dW2, \"db2\": db2}\n",
    "\n",
    "def update_parameters(params, derivatives, alpha = 1.2):\n",
    "    # alpha is the model's learning rate \n",
    "    \n",
    "    params['W1'] = params['W1'] - alpha * derivatives['dW1']\n",
    "    params['b1'] = params['b1'] - alpha * derivatives['db1']\n",
    "    params['W2'] = params['W2'] - alpha * derivatives['dW2']\n",
    "    params['b2'] = params['b2'] - alpha * derivatives['db2']\n",
    "    return params"
   ]
  },
  {
   "cell_type": "markdown",
   "metadata": {
    "_cell_guid": "935845e8-c35f-43ae-8f28-65eee43fc428",
    "_uuid": "1724d52016b387a2f974e6c6fc27c2a17a96166b"
   },
   "source": [
    "### 2.8 Compile and Train the Model\n",
    "\n",
    "Create a function which compiles all the key functions and creates a neural network model. "
   ]
  },
  {
   "cell_type": "code",
   "execution_count": 9,
   "metadata": {
    "_cell_guid": "84c99459-755e-4795-a52f-bb8cf59299a4",
    "_uuid": "011debd87ff12ce75d29dac9383d74db9c64a35a"
   },
   "outputs": [],
   "source": [
    "def neural_network(X, Y, n_h, num_iterations=100):\n",
    "    n_x = network_architecture(X, Y)[0]\n",
    "    n_y = network_architecture(X, Y)[2]\n",
    "    \n",
    "    params = define_network_parameters(n_x, n_h, n_y)\n",
    "    for i in range(0, num_iterations):\n",
    "        results = forward_propagation(X, params)\n",
    "        error = compute_error(results['A2'], Y)\n",
    "        derivatives = backward_propagation(params, results, X, Y) \n",
    "        params = update_parameters(params, derivatives)    \n",
    "    return params"
   ]
  },
  {
   "cell_type": "code",
   "execution_count": 10,
   "metadata": {
    "_cell_guid": "fb2fa7af-e787-4ca1-9079-f6dfb6723390",
    "_uuid": "2d983cbb3c77270b2ee66d9148315cb24888f292"
   },
   "outputs": [
    {
     "name": "stderr",
     "output_type": "stream",
     "text": [
      "/opt/conda/lib/python3.6/site-packages/ipykernel_launcher.py:2: FutureWarning: Method .as_matrix will be removed in a future version. Use .values instead.\n",
      "  \n",
      "/opt/conda/lib/python3.6/site-packages/ipykernel_launcher.py:3: RuntimeWarning: overflow encountered in exp\n",
      "  This is separate from the ipykernel package so we can avoid doing imports until\n"
     ]
    }
   ],
   "source": [
    "y = Y.values.reshape(1, Y.size)\n",
    "x = X.T.as_matrix()\n",
    "model = neural_network(x, y, n_h = 10, num_iterations = 10)"
   ]
  },
  {
   "cell_type": "markdown",
   "metadata": {
    "_cell_guid": "6dccfd5a-8850-41a0-b406-47460f5bd2ed",
    "_uuid": "dc33c60645cdaba20c5a420ab6bc7e5933b6e88b"
   },
   "source": [
    "### 2.9 Predictions "
   ]
  },
  {
   "cell_type": "code",
   "execution_count": 11,
   "metadata": {
    "_cell_guid": "59eed767-201d-4138-a77e-2ce8eaad83df",
    "_uuid": "df27eb0a992e1d7646c2ef5f5c7ca928bca6155e"
   },
   "outputs": [
    {
     "name": "stdout",
     "output_type": "stream",
     "text": [
      "[0.94994825 0.19882284 0.94994825 ... 0.94994825 0.19882284 0.94994825]\n",
      "Accuracy: 93%\n"
     ]
    },
    {
     "name": "stderr",
     "output_type": "stream",
     "text": [
      "/opt/conda/lib/python3.6/site-packages/ipykernel_launcher.py:3: RuntimeWarning: overflow encountered in exp\n",
      "  This is separate from the ipykernel package so we can avoid doing imports until\n"
     ]
    }
   ],
   "source": [
    "def predict(parameters, X):\n",
    "    results = forward_propagation(X, parameters)\n",
    "    print (results['A2'][0])\n",
    "    predictions = np.around(results['A2'])    \n",
    "    return predictions\n",
    "\n",
    "predictions = predict(model, x)\n",
    "print ('Accuracy: %d' % float((np.dot(y,predictions.T) + np.dot(1-y,1-predictions.T))/float(y.size)*100) + '%')"
   ]
  },
  {
   "cell_type": "markdown",
   "metadata": {
    "_cell_guid": "007cf2bd-4bf6-4624-b96d-05398f8ae057",
    "_uuid": "85e78bfc5548f6a469dafaecbcc20b70f028e0d7"
   },
   "source": [
    "<br>\n",
    "\n",
    "## <a>3. Implement a Neural Network - Multiclass Classification </a>\n",
    "\n",
    "In the previous step, I discussed about how to implement a NN for binary classification in python from scratch. Python's libraries such as sklearn provides an excellent implementation of efficient neural networks which can be used to directly implement neural networks on a dataset.  In this section, lets implement a multi class neural network to classify the digit shown in an image from 0 to 9\n",
    "\n",
    "### 3.1 Dataset Preparation \n",
    "\n",
    "Slice the train dataset into train and validation set"
   ]
  },
  {
   "cell_type": "code",
   "execution_count": 12,
   "metadata": {
    "_cell_guid": "d58f85e0-2afe-4008-a7d9-974e4621ddc6",
    "_uuid": "1b6b488cc971de482c7fdb19826685882709d5b2"
   },
   "outputs": [],
   "source": [
    "from sklearn.model_selection import train_test_split\n",
    "from sklearn import neural_network\n",
    "from sklearn import  metrics\n",
    "\n",
    "Y = train['label'][:10000] # use more number of rows for more training \n",
    "X = train.drop(['label'], axis = 1)[:10000] # use more number of rows for more training \n",
    "x_train, x_val, y_train, y_val = train_test_split(X, Y, test_size=0.20, random_state=42)"
   ]
  },
  {
   "cell_type": "markdown",
   "metadata": {
    "_cell_guid": "3975a25f-0d3f-4ba4-8c6d-8bda46e98526",
    "_uuid": "75b25b8548f2ed3762c898df6fe90eadb88bd49c"
   },
   "source": [
    "### 3.2 Train the Model\n",
    "\n",
    "Train a neural network model with 10 hidden layers. "
   ]
  },
  {
   "cell_type": "code",
   "execution_count": 13,
   "metadata": {
    "_cell_guid": "c4b21516-df48-4bfa-9e29-3e6d1156708e",
    "_uuid": "cde4d31085b4b27912d4c407ccf3ea1ed05599ad"
   },
   "outputs": [
    {
     "data": {
      "text/plain": [
       "MLPClassifier(activation='relu', alpha=1e-05, batch_size='auto', beta_1=0.9,\n",
       "       beta_2=0.999, early_stopping=False, epsilon=1e-08,\n",
       "       hidden_layer_sizes=(5,), learning_rate='constant',\n",
       "       learning_rate_init=0.001, max_iter=200, momentum=0.9,\n",
       "       n_iter_no_change=10, nesterovs_momentum=True, power_t=0.5,\n",
       "       random_state=18, shuffle=True, solver='lbfgs', tol=0.0001,\n",
       "       validation_fraction=0.1, verbose=False, warm_start=False)"
      ]
     },
     "execution_count": 13,
     "metadata": {},
     "output_type": "execute_result"
    }
   ],
   "source": [
    "model = neural_network.MLPClassifier(alpha=1e-5, hidden_layer_sizes=(5,), solver='lbfgs', random_state=18)\n",
    "model.fit(x_train, y_train)"
   ]
  },
  {
   "cell_type": "markdown",
   "metadata": {
    "_cell_guid": "a140e55b-d703-4898-a7d6-2dc41979682d",
    "_uuid": "ada44175475546ac717903d7077d9ce31c985db2"
   },
   "source": [
    "### 3.3 Predictions "
   ]
  },
  {
   "cell_type": "code",
   "execution_count": null,
   "metadata": {
    "_cell_guid": "5bc4bb64-3f6d-401e-830d-b2356ba31dd5",
    "_uuid": "8421acfd4becc9f38f47e9b58622820db95706b3",
    "collapsed": true
   },
   "outputs": [],
   "source": [
    "predicted = model.predict(x_val)\n",
    "print(\"Classification Report:\\n %s:\" % (metrics.classification_report(y_val, predicted)))"
   ]
  },
  {
   "cell_type": "code",
   "execution_count": null,
   "metadata": {},
   "outputs": [],
   "source": []
  }
 ],
 "metadata": {
  "kernelspec": {
   "display_name": "Python 3",
   "language": "python",
   "name": "python3"
  },
  "language_info": {
   "codemirror_mode": {
    "name": "ipython",
    "version": 3
   },
   "file_extension": ".py",
   "mimetype": "text/x-python",
   "name": "python",
   "nbconvert_exporter": "python",
   "pygments_lexer": "ipython3",
   "version": "3.7.3"
  }
 },
 "nbformat": 4,
 "nbformat_minor": 2
}
