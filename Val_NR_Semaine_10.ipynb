{
 "cells": [
  {
   "cell_type": "markdown",
   "metadata": {},
   "source": [
    "# Semaine 11 - Réseau de neurones de base"
   ]
  },
  {
   "cell_type": "markdown",
   "metadata": {},
   "source": [
    "Cette semaine nous allons écrire un réseau de neurones de base, que nous allons entraîner afin qu'il inverse des séquences de bits. Si vous réussissez à l'implémenter, vous pourrez ensuite vous amuser à l'utiliser sur d'autres types de données"
   ]
  },
  {
   "cell_type": "markdown",
   "metadata": {},
   "source": [
    "## Importations et initialisations de variables"
   ]
  },
  {
   "cell_type": "markdown",
   "metadata": {},
   "source": [
    "Nous n'allons utiliser que numpy pour cet exercice"
   ]
  },
  {
   "cell_type": "code",
   "execution_count": 1,
   "metadata": {
    "collapsed": true
   },
   "outputs": [],
   "source": [
    "import numpy as np"
   ]
  },
  {
   "cell_type": "markdown",
   "metadata": {},
   "source": [
    "Nous avons un réseau à deux couches (l'input ne comptant pas pour une couche). Nous allons utiliser 300 séquences de bits pour l'entraînement."
   ]
  },
  {
   "cell_type": "code",
   "execution_count": 2,
   "metadata": {
    "collapsed": true
   },
   "outputs": [],
   "source": [
    "# Nb de neurones sur chaque couche\n",
    "n_in = 10\n",
    "n_hidden = 8\n",
    "n_out = 10\n",
    "\n",
    "# Nb de 'training examples'\n",
    "m = 300"
   ]
  },
  {
   "cell_type": "code",
   "execution_count": 3,
   "metadata": {
    "collapsed": true
   },
   "outputs": [],
   "source": [
    "alpha = 1  # Learning rate\n",
    "epochs = 200  # nb iterations du gradient descent"
   ]
  },
  {
   "cell_type": "markdown",
   "metadata": {},
   "source": [
    "## Définition des fonctions d'activation"
   ]
  },
  {
   "cell_type": "markdown",
   "metadata": {},
   "source": [
    "Nous utiliserons la fonction tanh pour l'activation de la \"hidden layer\", et la sigmoïde pour la dernière couche. Implémentez-les si elle n'existent pas déjà dans numpy. Implémentez aussi la dérivée de l'une ou l'autre d'entre elles, le cas échéant.\n",
    "Attention! Les fonctions doivent pouvoir traiter des vecteurs ou des matrices en effectuant l'opération sur chaque élément de ces derniers."
   ]
  },
  {
   "cell_type": "code",
   "execution_count": 4,
   "metadata": {
    "collapsed": true
   },
   "outputs": [],
   "source": [
    "def sigmoid(x, derivative=False):\n",
    "    if (derivative == True):\n",
    "        return x * (1 - x)\n",
    "    return 1 / (1 + np.exp(-x))\n",
    "\n"
   ]
  },
  {
   "cell_type": "code",
   "execution_count": 5,
   "metadata": {
    "collapsed": true
   },
   "outputs": [],
   "source": [
    "# Dérivée de tanh\n",
    "def tanh(x, derivative=False):\n",
    "    if (derivative == True):\n",
    "        return (1 - (x ** 2))\n",
    "    return np.tanh(x)"
   ]
  },
  {
   "cell_type": "code",
   "execution_count": 6,
   "metadata": {
    "collapsed": true
   },
   "outputs": [
    {
     "name": "stdout",
     "output_type": "stream",
     "text": [
      "[-99.     0.96   0.  ]\n"
     ]
    }
   ],
   "source": [
    "Z = np.array([10, 0.2, -1])\n",
    "\n",
    "print(tanh(Z, derivative=True))"
   ]
  },
  {
   "cell_type": "code",
   "execution_count": null,
   "metadata": {
    "collapsed": true
   },
   "outputs": [],
   "source": []
  },
  {
   "cell_type": "markdown",
   "metadata": {},
   "source": [
    "## Entraînement du réseau de neurones"
   ]
  },
  {
   "cell_type": "markdown",
   "metadata": {},
   "source": [
    "Nous allons écrire une fonction qui fait une activation puis une rétropropagation, puis renvoie l'erreur (loss) et le gradient (toutes ces variables qui commencent par d...). L'itération sur les 200 epochs se fera dans un deuxième temps.\n",
    "\n",
    "\n",
    "Question, pourquoi b1 et b2 (les biaised unites), sont des matrices initalizées a 0\n",
    "Les dimensoins des matrices d'input ect sont bien inversées pour les NN car ca rend les calculs plus simples\n",
    "\n",
    "        # Backpropagation\n",
    "        delta3 = probs\n",
    "        delta3[range(num_examples), y] -= 1\n",
    "        dW2 = (a1.T).dot(delta3)\n",
    "        db2 = np.sum(delta3, axis=0, keepdims=True)\n",
    "        delta2 = delta3.dot(W2.T) * (1 - np.power(a1, 2))\n",
    "        dW1 = np.dot(X.T, delta2)\n",
    "        db1 = np.sum(delta2, axis=0)\n",
    "\n",
    "        # Add regularization terms (b1 and b2 don't have regularization terms)\n",
    "        dW2 += reg_lambda * W2\n",
    "        dW1 += reg_lambda * W1\n",
    "\n",
    "        # Gradient descent parameter update\n",
    "        W1 += -epsilon * dW1\n",
    "        b1 += -epsilon * db1\n",
    "        W2 += -epsilon * dW2\n",
    "        b2 += -epsilon * db2\n",
    "        \n",
    " alors que pour calculer delta ANg fait delta3 = W3(transposed).delta4 .* g'(Z3)\n",
    " et pas de trace des biased units"
   ]
  },
  {
   "cell_type": "code",
   "execution_count": 26,
   "metadata": {
    "collapsed": true
   },
   "outputs": [],
   "source": [
    "def train(X, Y, W1, W2, b1, b2):\n",
    "    loss_history = []\n",
    "    m = X.shape[1]\n",
    "    \n",
    "    for epoch in range(epochs):\n",
    "        # Forward\n",
    "        Z2 = np.transpose(W1).dot(X) + b1\n",
    "        A2 = tanh(Z2)\n",
    "        Z3 = np.transpose(W2).dot(A2) + b2\n",
    "        A3 = sigmoid(Z3)\n",
    "\n",
    "        # Backward\n",
    "        delta3 = A3 - Y\n",
    "#         print(delta3.shape)\n",
    "#         print(A2.shape)\n",
    "#         dW2 = A2.T.dot(delta3)\n",
    "#         dW2 = np.dot(delta3, A2.T) / m\n",
    "        dW2 = A2.dot(delta3.T) / m\n",
    "        db2 = np.sum(delta3) / m\n",
    "        delta2 = W2.dot(delta3) * sigmoid(A2, derivative=True)\n",
    "#         print(delta2.shape)\n",
    "#         print(X.shape)\n",
    "        dW1 = X.dot(delta2.T) / m\n",
    "        db1 = np.sum(delta2) / m\n",
    "#     print(A3 - Y)\n",
    "\n",
    "        # Parameter update (use the learning rate alpha here!)\n",
    "#         print(dW2.shape)\n",
    "#         print(W2.shape)\n",
    "        \n",
    "        W1 += -alpha * dW1\n",
    "        b1 += -alpha * db1\n",
    "        W2 += -alpha * dW2\n",
    "        b2 += -alpha * db2\n",
    "    \n",
    "        # Compute loss\n",
    "        loss = np.sum(delta3)\n",
    "        \n",
    "        \n",
    "        loss_history.append(loss)\n",
    "#         print(\"Epoch %d, Loss: %.8f\" % (epoch, loss))\n",
    "    \n",
    "    return loss_history, W1, W2, b1, b2\n",
    "\n",
    "# prin(train(X, Y, W1, W2, b1, b2))"
   ]
  },
  {
   "cell_type": "markdown",
   "metadata": {},
   "source": [
    "### Initialisation des paramètres du réseau"
   ]
  },
  {
   "cell_type": "markdown",
   "metadata": {},
   "source": [
    "Attention, certains paramètres sont initalisés à zéro, d'autres non..."
   ]
  },
  {
   "cell_type": "code",
   "execution_count": 27,
   "metadata": {
    "collapsed": true
   },
   "outputs": [
    {
     "name": "stdout",
     "output_type": "stream",
     "text": [
      "(10, 300)\n"
     ]
    }
   ],
   "source": [
    "# W1 10 x 8 car elle permet de passer de in 10 a h 8\n",
    "# W2 8 x 10 car output = 10\n",
    "# b1 = 8\n",
    "# b2 = 10\n",
    "np.random.seed(0)\n",
    "X = np.random.binomial(1, 0.5, (n_in, m))\n",
    "Y = X ^ 1\n",
    "\n",
    "input_dim = X.shape[0]\n",
    "output_dim = Y.shape[0]\n",
    "hidden_dim = 8\n",
    "\n",
    "# print(X)\n",
    "# print(Y)\n",
    "\n",
    "W1 = np.random.randn(input_dim, hidden_dim)\n",
    "W2 = np.random.randn(hidden_dim, output_dim)\n",
    "b1 = 0\n",
    "b2 = 0\n",
    "\n",
    "print(X.shape)\n",
    "# W2 = \n",
    "# b1 = \n",
    "# b2 = "
   ]
  },
  {
   "cell_type": "markdown",
   "metadata": {},
   "source": [
    "## Génération des données d'entraînement"
   ]
  },
  {
   "cell_type": "markdown",
   "metadata": {},
   "source": [
    "Ici il s'agit créer 300 séries de 10 chiffres binaires (1 et 0) pour les X.\n",
    "Les Y seront ces mêmes séries, inversées."
   ]
  },
  {
   "cell_type": "code",
   "execution_count": 28,
   "metadata": {
    "collapsed": true
   },
   "outputs": [
    {
     "name": "stdout",
     "output_type": "stream",
     "text": [
      "[[1 1 1 ... 0 1 1]\n",
      " [1 0 0 ... 0 1 1]\n",
      " [0 1 0 ... 0 1 0]\n",
      " ...\n",
      " [0 1 1 ... 1 1 0]\n",
      " [1 0 1 ... 0 1 0]\n",
      " [1 0 1 ... 0 1 0]]\n",
      "[[0 0 0 ... 1 0 0]\n",
      " [0 1 1 ... 1 0 0]\n",
      " [1 0 1 ... 1 0 1]\n",
      " ...\n",
      " [1 0 0 ... 0 0 1]\n",
      " [0 1 0 ... 1 0 1]\n",
      " [0 1 0 ... 1 0 1]]\n"
     ]
    }
   ],
   "source": [
    "# Data generation\n",
    "X = np.random.binomial(1, 0.5, (n_in, m))\n",
    "Y = X ^ 1\n",
    "print(X)\n",
    "print(Y)"
   ]
  },
  {
   "cell_type": "markdown",
   "metadata": {},
   "source": [
    "## Lancer l'entraînement du réseau"
   ]
  },
  {
   "cell_type": "code",
   "execution_count": 29,
   "metadata": {},
   "outputs": [
    {
     "name": "stdout",
     "output_type": "stream",
     "text": [
      "-3493.223696582197\n"
     ]
    }
   ],
   "source": [
    "loss_history, W1, W2, b1, b2 = train(X, Y, W1, W2, b1, b2)\n",
    "print(b1)"
   ]
  },
  {
   "cell_type": "markdown",
   "metadata": {},
   "source": [
    "### Visualiser la décroissance de l'erreur sur un graphe (optionnel)"
   ]
  },
  {
   "cell_type": "code",
   "execution_count": 30,
   "metadata": {
    "collapsed": true
   },
   "outputs": [
    {
     "name": "stdout",
     "output_type": "stream",
     "text": [
      "[-79.20555169566684, 6.558077030204004, 381.64217229101484, -1018.4499870178283, 1413.144956846931, -1493.0082730211093, 1424.5396112292563, -1451.223322381089, 1425.2360336015638, -1424.9807568944457, 1422.076213431399, -1418.9934273476595, 1418.3387721758822, -1414.835016083265, 1414.9176032954754, -1412.1295599120738, 1412.3181259786243, -1410.3876007361523, 1410.5729810063876, -1409.3139748888425, 1409.479159746748, -1408.671740062232, 1408.8119259957944, -1408.2924727845425, 1408.4061264079296, -1408.0683694068748, 1408.1572545467966, -1407.9348700627506, 1408.002688240728, -1407.8544235548534, 1407.9053855539264, -1407.8053478661545, 1407.8433295127513, -1407.775062222864, 1407.803276460636, -1407.7561848776209, 1407.7771449620075, -1407.744323911142, 1407.7599309209163, -1407.736827859676, 1407.7484922960439, -1407.7320734144125, 1407.7408309071047, -1407.7290540498252, 1407.7356614572698, -1407.7271388069307, 1407.7321488618536, -1407.7259285768582, 1407.729745748893, -1407.7251691244137, 1407.7280905340285, -1407.7246976744696, 1407.7269426936768, -1407.724409675742, 1407.7261412119642, -1407.7242378829255, 1407.7255776527893, -1407.7241390656588, 1407.7251785677552, -1407.7240854984993, 1407.724893922551, -1407.7240594798816, 1407.7246894360055, -1407.7240497869188, 1407.7245414811446, -1407.7240493761064, 1407.7244336742647, -1407.7240538901729, 1407.7243545822057, -1407.7240606885368, 1407.7242961739767, -1407.724068218734, 1407.7242527700942, -1407.72407561009, 1407.7242203261671, -1407.7240824123262, 1407.7241959418975, -1407.7240884284927, 1407.7241775227608, -1407.7240936092107, 1407.7241635455662, -1407.7240979865517, 1407.7241528950294, -1407.7241016334358, 1407.7241447491338, -1407.724104639332, 1407.7241384981771, -1407.724107096241, 1407.7241336872385, -1407.724109091108, 1407.7241299749883, -1407.724110702166, 1407.7241271040075, -1407.724111997576, 1407.7241248792402, -1407.7241130354373, 1407.724123152258, -1407.7241138644695, 1407.7241218096713, -1407.7241145250357, 1407.7241207645675, -1407.7241150502646, 1407.7241199501195, -1407.7241154671394, 1407.724119314808, -1407.7241157975127, 1407.7241188188193, -1407.7241160589974, 1407.7241184313223, -1407.7241162657272, 1407.7241181283987, -1407.724116429016, 1407.7241178914658, -1407.7241165578835, 1407.7241177060619, -1407.7241166595145, 1407.7241175609247, -1407.7241167396178, 1407.7241174472701, -1407.7241168027192, 1407.7241173582443, -1407.7241168524038, 1407.724117288492, -1407.72411689151, 1407.7241172338295, -1407.7241169222768, 1407.7241171909843, -1407.7241169464787, 1407.7241171573967, -1407.7241169655076, 1407.7241171310625, -1407.7241169804693, 1407.7241171104129, -1407.7241169922295, 1407.724117094219, -1407.7241170014684, 1407.724117081519, -1407.724117008729, 1407.7241170715574, -1407.7241170144325, 1407.724117063744, -1407.7241170189138, 1407.7241170576146, -1407.7241170224324, 1407.7241170528062, -1407.7241170251964, 1407.7241170490342, -1407.7241170273674, 1407.7241170460748, -1407.72411702907, 1407.724117043753, -1407.7241170304092, 1407.724117041932, -1407.7241170314587, 1407.7241170405023, -1407.7241170322834, 1407.7241170393809, -1407.7241170329307, 1407.7241170385007, -1407.7241170334405, 1407.7241170378106, -1407.7241170338373, 1407.7241170372688, -1407.7241170341526, 1407.7241170368438, -1407.724117034397, 1407.7241170365098, -1407.7241170345899, 1407.7241170362486, -1407.7241170347431, 1407.7241170360435, -1407.7241170348611, 1407.7241170358816, -1407.7241170349535, 1407.7241170357552, -1407.7241170350276, 1407.7241170356565, -1407.7241170350846, 1407.7241170355785, -1407.7241170351308, 1407.7241170355176, -1407.724117035165, 1407.7241170354691, -1407.7241170351929, 1407.7241170354318, -1407.7241170352163, 1407.7241170354027, -1407.7241170352322, 1407.7241170353798, -1407.7241170352459, 1407.724117035361, -1407.7241170352554, 1407.7241170353464, -1407.7241170352645, 1407.7241170353352, -1407.7241170352706, 1407.7241170353266, -1407.7241170352759, 1407.7241170353195, -1407.7241170352797]\n"
     ]
    }
   ],
   "source": [
    "print(loss_history)"
   ]
  },
  {
   "cell_type": "markdown",
   "metadata": {},
   "source": [
    "## Évaluation du réseau de neurones"
   ]
  },
  {
   "cell_type": "markdown",
   "metadata": {},
   "source": [
    "Écrivez une petite fonction qui, à partir des activation de la dernière couche du réseau, produit un vecteur de 1 et de 0. Normalement il suffit de copier-coller quelque lignes de code et d'ajouter quelque chose à la fin. Attention, ici, contrairement à ce qu'on avait dans le MOOC, la dernière couche a 10 valeurs de sortie, et non pas une seule."
   ]
  },
  {
   "cell_type": "code",
   "execution_count": 31,
   "metadata": {
    "collapsed": true
   },
   "outputs": [],
   "source": [
    "def predict(X, W1, W2, b1, b2):\n",
    "    Z2 = np.transpose(W1).dot(X) + b1\n",
    "    A2 = tanh(Z2)\n",
    "    Z3 = np.transpose(W2).dot(A2) + b2\n",
    "    A3 = sigmoid(Z3)\n",
    "    return(A3)\n"
   ]
  },
  {
   "cell_type": "markdown",
   "metadata": {},
   "source": [
    "### Tester la performance sur un seul exemple\n",
    "Ici on génère un seul exemple (une série de 10 chiffres binaires), puis on fait prédire son inversion."
   ]
  },
  {
   "cell_type": "code",
   "execution_count": 32,
   "metadata": {
    "collapsed": true
   },
   "outputs": [
    {
     "name": "stdout",
     "output_type": "stream",
     "text": [
      "[[1 1 1 1 0 1 0 1 0 1]]\n",
      "[[0.98942146 0.99676648 0.99814571 0.96168221 0.9942037  0.99676648\n",
      "  0.99646783 0.93676648 0.99609668 0.99609668]]\n"
     ]
    }
   ],
   "source": [
    "X = np.random.binomial(1, 0.5, (n_in,1))\n",
    "print(X.T)\n",
    "print(predict(X, W1, W2, b1, b2).T)"
   ]
  },
  {
   "cell_type": "markdown",
   "metadata": {},
   "source": [
    "### Tester la performance sur une série d'exemples"
   ]
  },
  {
   "cell_type": "code",
   "execution_count": null,
   "metadata": {
    "collapsed": true
   },
   "outputs": [],
   "source": []
  }
 ],
 "metadata": {
  "kernelspec": {
   "display_name": "Python 3",
   "language": "python",
   "name": "python3"
  },
  "language_info": {
   "codemirror_mode": {
    "name": "ipython",
    "version": 3
   },
   "file_extension": ".py",
   "mimetype": "text/x-python",
   "name": "python",
   "nbconvert_exporter": "python",
   "pygments_lexer": "ipython3",
   "version": "3.7.3"
  }
 },
 "nbformat": 4,
 "nbformat_minor": 2
}
